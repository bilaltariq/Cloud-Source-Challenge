{
 "cells": [
  {
   "cell_type": "code",
   "execution_count": 1,
   "id": "2e988635-9503-4c04-b4c2-f3ca7b158d6f",
   "metadata": {},
   "outputs": [],
   "source": [
    "import pandas as pd\n",
    "import numpy as np\n",
    "import os\n",
    "import json\n",
    "import requests\n",
    "from pandas import json_normalize"
   ]
  },
  {
   "cell_type": "code",
   "execution_count": 2,
   "id": "6c451d4e-c34b-4653-bd9e-88f311a07cc5",
   "metadata": {},
   "outputs": [],
   "source": [
    "import sqlite3\n",
    "import pandas as pd\n",
    "\n",
    "class Database:\n",
    "    def __init__(self, db_name):\n",
    "        self.db_name = db_name\n",
    "        self.connection = None\n",
    "\n",
    "    def connect(self):\n",
    "        try:\n",
    "            # Connect to the SQLite database. If it does not exist, it will be created.\n",
    "            self.connection = sqlite3.connect(self.db_name)\n",
    "            #print(f\"Connected to SQLite database: {self.db_name}\")\n",
    "        except sqlite3.Error as e:\n",
    "            print(f\"Error: Unable to connect to SQLite database. {e}\")\n",
    "\n",
    "    def close_connection(self):\n",
    "        if self.connection:\n",
    "            self.connection.close()\n",
    "            #print(f\"Connection to SQLite database {self.db_name} closed.\")\n",
    "            self.connection = None\n",
    "\n",
    "    def create_table(self, table_name, columns_dict):\n",
    "        try:\n",
    "            # Use a cursor to execute SQL commands\n",
    "            cursor = self.connection.cursor()\n",
    "\n",
    "            # Construct the CREATE TABLE query\n",
    "            columns_str = ', '.join([f\"{col_name} {col_desc}\" for col_name, col_desc in columns_dict.items()])\n",
    "            create_table_query = f\"CREATE TABLE IF NOT EXISTS {table_name} ({columns_str});\"\n",
    "\n",
    "            # Execute the query\n",
    "            cursor.execute(create_table_query)\n",
    "            print(f\"Table {table_name} created (if not exists).\")\n",
    "\n",
    "            # Commit the changes and close the cursor\n",
    "            self.connection.commit()\n",
    "            cursor.close()\n",
    "\n",
    "        except sqlite3.Error as e:\n",
    "            print(f\"Error: Unable to create table {table_name}. {e}\")\n",
    "\n",
    "    def insert_dataframe(self, table_name, dataframe, if_exists_m='append'):\n",
    "        try:\n",
    "            # Use the to_sql method to insert the DataFrame into the database\n",
    "            dataframe.to_sql(table_name, self.connection, if_exists=if_exists_m, index=False)\n",
    "            print(f\"Data inserted into table {table_name}.\")\n",
    "\n",
    "            # Commit the changes\n",
    "            self.connection.commit()\n",
    "\n",
    "        except sqlite3.Error as e:\n",
    "            print(f\"Error: Unable to insert data into table {table_name}. {e}\")\n",
    "\n",
    "    def select_table(self, table_name):\n",
    "        try:\n",
    "            cursor = self.connection.cursor()\n",
    "            cursor.execute(f\"SELECT * FROM {table_name}\")\n",
    "            rows = cursor.fetchall()\n",
    "            columns = [col[0] for col in cursor.description]\n",
    "            result_df = pd.DataFrame(rows, columns=columns)\n",
    "            cursor.close()\n",
    "            return result_df\n",
    "\n",
    "        except sqlite3.Error as e:\n",
    "            print(f\"Error: Unable to execute SELECT query on table {table_name}. {e}\")\n",
    "            return None\n",
    "    \n",
    "    def initialize_tables(self):\n",
    "        self.connect()\n",
    "        sales_table = \"dwd_sales_data\"\n",
    "        columns_dict_sales_table = {\"id\": \"INTEGER PRIMARY KEY\", \"order_id\": \"INTEGER\", \"customer_id\": \"INTEGER\", \"product_id\": \"INTEGER\", \"quantity\": \"INTEGER\", \"price\": \"DECIMAL\", \"order_date\": \"DATE\"}\n",
    "        self.create_table(sales_table, columns_dict_sales_table)\n",
    "\n",
    "        users_data_table = \"dim_users\"\n",
    "        columns_dict_users_data_table = {\"id\": \"INTEGER\", \"name\": \"TEXT\", \"username\": \"TEXT\", \"email\": \"TEXT\", \"phone\": \"TEXT\", \"website\": \"TEXT\", \"street\": \"TEXT\",\"suite\": \"TEXT\", \"city\": \"TEXT\", \"zipcode\": \"TEXT\", \"lat\":\"DECIMAL\", \"lng\":\"DECIMAL\" ,\"name\": \"TEXT\",\"catchPhrase\": \"TEXT\",\"bs\": \"TEXT\"}\n",
    "        self.create_table(users_data_table, columns_dict_users_data_table)\n",
    "\n",
    "        weather_table = \"weather_info_raw\"\n",
    "        columns_dict_weather_table = {\"id\": \"INTEGER PRIMARY KEY\", \"lat\": \"DECIMAL\", \"lng\": \"DECIMAL\", \"feature\": \"TEXT\"}\n",
    "        self.create_table(weather_table, columns_dict_weather_table)\n",
    "\n",
    "        self.close_connection()"
   ]
  },
  {
   "cell_type": "code",
   "execution_count": 3,
   "id": "50923443-547a-420a-90b8-cc4e9f45d35e",
   "metadata": {},
   "outputs": [],
   "source": [
    "class DataSources:\n",
    "    def __init__(self):\n",
    "        pass\n",
    "    def get_weather_data(self, lat, lng, api_key='b251aa99ea5b80b71785ff34d7da8056'):\n",
    "        try:\n",
    "            url = f\"https://api.openweathermap.org/data/2.5/weather?lat={lat}&lon={lng}&appid={api_key}\"\n",
    "            print(url)\n",
    "            response = requests.get(url)\n",
    "            weather_data = response.json()\n",
    "            return weather_data\n",
    "        except:\n",
    "            return None\n",
    "    \n",
    "    \n",
    "    def read_json_user_data(self, link):\n",
    "        response = requests.get(link)\n",
    "        users_data = response.json()\n",
    "        df = pd.DataFrame(users_data)\n",
    "        df_expand = pd.concat(\n",
    "            [df.drop(['address', 'company'], axis=1), json_normalize(df['address']), json_normalize(df['company'])],\n",
    "            axis=1).reset_index(drop=True)\n",
    "        return df_expand\n",
    "    \n",
    "    \n",
    "    def read_sales_data(self, path_to_file):\n",
    "        return pd.read_csv(path_to_file, sep=',')\n",
    "    \n",
    "    def read_weather_data(self, table_name, lat, lng):\n",
    "        db_instance.connect()\n",
    "        data_stored_in_db = db_instance.select_table(table_name)\n",
    "        data_stored_in_db = data_stored_in_db[(data_stored_in_db['lat'] == lat) & (data_stored_in_db['lng'] == lng)]\n",
    "    \n",
    "        if len(data_stored_in_db) > 0:\n",
    "            db_instance.close_connection()\n",
    "            pass\n",
    "            return None #json.loads((data_stored_in_db.loc[0]['feature']).replace(\"'\", '\"'))\n",
    "        else:\n",
    "            print('Lat and Lng are in not database')\n",
    "            weather_data_from_api = self.get_weather_data(lat, lng)\n",
    "            weather_data_to_insert = pd.DataFrame([{'lat': lat, 'lng': lng, 'feature': str(weather_data_from_api)}])\n",
    "            db_instance.insert_dataframe(table_name, weather_data_to_insert)\n",
    "            db_instance.close_connection()\n",
    "            return weather_data_from_api\n",
    "    \n"
   ]
  },
  {
   "cell_type": "code",
   "execution_count": 4,
   "id": "ffd3d74e-6c06-4bc0-be11-a8b95fa9409a",
   "metadata": {},
   "outputs": [
    {
     "name": "stdout",
     "output_type": "stream",
     "text": [
      "Table dwd_sales_data created (if not exists).\n",
      "Table dim_users created (if not exists).\n",
      "Table weather_info_raw created (if not exists).\n"
     ]
    }
   ],
   "source": [
    "SLSH = os.path.sep\n",
    "cwd = os.getcwd()\n",
    "db_name = 'primary.db'\n",
    "db_instance = Database(db_name)\n",
    "get_data = DataSources()\n",
    "db_instance.initialize_tables()"
   ]
  },
  {
   "cell_type": "code",
   "execution_count": 5,
   "id": "db2f4cd4-0e2e-49ef-8f6a-bc3b062abf65",
   "metadata": {},
   "outputs": [
    {
     "name": "stdout",
     "output_type": "stream",
     "text": [
      "(1000, 6)\n",
      "Data inserted into table dwd_sales_data.\n"
     ]
    }
   ],
   "source": [
    "path_to_sales_file = cwd + SLSH + 'sales_data.csv'\n",
    "sales_data = get_data.read_sales_data(path_to_sales_file)\n",
    "print(sales_data.shape)\n",
    "db_instance.connect()\n",
    "db_instance.insert_dataframe('dwd_sales_data', sales_data)\n",
    "db_instance.close_connection()"
   ]
  },
  {
   "cell_type": "code",
   "execution_count": 6,
   "id": "2755e3b2-9fc6-499b-bdf4-4641698edc9a",
   "metadata": {},
   "outputs": [
    {
     "name": "stdout",
     "output_type": "stream",
     "text": [
      "(10, 15)\n",
      "Data inserted into table dim_users.\n"
     ]
    }
   ],
   "source": [
    "link_to_json = 'https://jsonplaceholder.typicode.com/users'\n",
    "users_data = get_data.read_json_user_data(link_to_json)\n",
    "users_data['geo.lng'] = pd.to_numeric(users_data['geo.lng'], errors='coerce')\n",
    "users_data['geo.lat'] = pd.to_numeric(users_data['geo.lat'], errors='coerce')\n",
    "users_data = users_data.rename(columns={'geo.lng': 'lng'})\n",
    "users_data = users_data.rename(columns={'geo.lat': 'lat'})\n",
    "\n",
    "print(users_data.shape)\n",
    "db_instance.connect()\n",
    "db_instance.insert_dataframe('dim_users', users_data)\n",
    "db_instance.close_connection()"
   ]
  },
  {
   "cell_type": "code",
   "execution_count": 8,
   "id": "243c94fe-fec7-4826-833e-4f8767285be4",
   "metadata": {},
   "outputs": [
    {
     "name": "stdout",
     "output_type": "stream",
     "text": [
      "Table dim_weather_details created (if not exists).\n",
      "Data inserted into table dim_weather_details.\n"
     ]
    }
   ],
   "source": [
    "lat_lng_unique_set = users_data[['lat', 'lng']]\n",
    "lat_lng_dict = lat_lng_unique_set.set_index('lat')['lng'].to_dict()\n",
    "for latValue, lngValue in lat_lng_dict.items():\n",
    "    weather_data = get_data.read_weather_data(table_name=\"weather_info_raw\", lat=latValue, lng=lngValue)\n",
    "\n",
    "db_instance.connect()\n",
    "weather_data = db_instance.select_table('weather_info_raw')\n",
    "db_instance.close_connection()\n",
    "\n",
    "weather_details_df = pd.DataFrame(weather_data['feature'])\n",
    "weather_details_df['feature'] = weather_details_df['feature'].apply(lambda x: json.loads(x.replace(\"'\", '\"')))\n",
    "weather_details_df = json_normalize(weather_details_df['feature']).reset_index(drop=True)\n",
    "weather_details_df = pd.concat([json_normalize(weather_details_df['weather'].explode()), weather_details_df], axis=1).reset_index(drop=True)\n",
    "weather_details_df.columns = [x.replace('.','_') for x in list(weather_details_df.columns)]\n",
    "weather_details_df = weather_details_df.astype(str)\n",
    "dict_to_create_table = dict()\n",
    "for column in weather_details_df.columns:\n",
    "    dict_to_create_table[column] = \"TEXT\" \n",
    "db_instance.connect()\n",
    "db_instance.create_table('dim_weather_details', dict_to_create_table)\n",
    "db_instance.insert_dataframe('dim_weather_details', weather_details_df)\n",
    "db_instance.close_connection()"
   ]
  },
  {
   "cell_type": "code",
   "execution_count": 14,
   "id": "77267b9e-f32a-4bce-bf60-11cc32e9545c",
   "metadata": {},
   "outputs": [
    {
     "data": {
      "text/plain": [
       "Index(['id', 'main', 'description', 'icon', 'weather', 'base', 'visibility',\n",
       "       'dt', 'timezone', 'id', 'name', 'cod', 'coord_lon', 'coord_lat',\n",
       "       'main_temp', 'main_feels_like', 'main_temp_min', 'main_temp_max',\n",
       "       'main_pressure', 'main_humidity', 'main_sea_level', 'main_grnd_level',\n",
       "       'wind_speed', 'wind_deg', 'wind_gust', 'clouds_all', 'sys_sunrise',\n",
       "       'sys_sunset', 'rain_1h'],\n",
       "      dtype='object')"
      ]
     },
     "execution_count": 14,
     "metadata": {},
     "output_type": "execute_result"
    }
   ],
   "source": [
    "weather_details_df.columns"
   ]
  },
  {
   "cell_type": "code",
   "execution_count": 9,
   "id": "d71291e9-dc58-48f7-8ef7-52f7dd395468",
   "metadata": {},
   "outputs": [],
   "source": [
    "sales_users_data = sales_data.merge(users_data, how='left', left_on='customer_id', right_on='id')"
   ]
  },
  {
   "cell_type": "code",
   "execution_count": 17,
   "id": "9ae0cecd-2fb0-4b58-9982-da6665203cca",
   "metadata": {},
   "outputs": [],
   "source": [
    "weather_details_df['coord_lon'] = pd.to_numeric(weather_details_df['coord_lon'], errors='coerce')\n",
    "weather_details_df['coord_lat'] = pd.to_numeric(weather_details_df['coord_lat'], errors='coerce')\n",
    "sales_user_weather_df = pd.merge(sales_users_data, weather_details_df, how='left', left_on=['lng', 'lat'], right_on=['coord_lon', 'coord_lat'])"
   ]
  },
  {
   "cell_type": "code",
   "execution_count": 22,
   "id": "8a550518-bc2a-4398-b824-928ad03eb428",
   "metadata": {},
   "outputs": [],
   "source": [
    "query_df = sales_user_weather_df.copy()\n",
    "query_df['qty_x_price'] = query_df['quantity'] * query_df['price']"
   ]
  },
  {
   "cell_type": "code",
   "execution_count": 106,
   "id": "16743869-c00a-4e0b-9584-afa1790fa9e3",
   "metadata": {},
   "outputs": [],
   "source": [
    "class QueryMgmt:\n",
    "    def __init__(self, df):\n",
    "        self.query_df = df \n",
    "\n",
    "    def transformation(self):\n",
    "        self.query_df['qty_x_price'] = self.query_df['quantity'] * self.query_df['price']\n",
    "        self.query_df[['year', 'month', 'day']] = query_df['order_date'].str.split('-',expand=True)\n",
    "        self.query_df['year_month'] = self.query_df['year'] + '-' + self.query_df['month']\n",
    "        self.query_df['year'] = self.query_df['year'].astype(int)\n",
    "        self.query_df['month'] = self.query_df['month'].astype(int)\n",
    "        self.query_df['day'] = self.query_df['day'].astype(int)\n",
    "        self.query_df['year_quarter'] = (self.query_df['year'].astype(str)).str[-2:] + '-Q' + self.query_df['quarter'].astype(str)\n",
    "\n",
    "    def total_sales_per_customer(self):\n",
    "        return self.query_df.groupby('customer_id')[\"qty_x_price\"].sum().reset_index()\n",
    "        \n",
    "    def avg_order_qty_per_product(self):\n",
    "        return self.query_df.groupby('product_id')['quantity'].mean().reset_index()\n",
    "    \n",
    "    def top_selling_products(self):\n",
    "        return self.query_df.groupby('product_id')['qty_x_price'].sum().reset_index().sort_values(by='qty_x_price', ascending=False)\n",
    "\n",
    "    def top_customers(self):\n",
    "        return self.query_df.groupby('username')['qty_x_price'].sum().reset_index().sort_values(by='qty_x_price', ascending=False)\n",
    "    \n",
    "    def sales_trend_over_time(self, time_period):\n",
    "        if time_period == 'Month':\n",
    "            return self.query_df.groupby('year_month').agg(Count_of_Orders=('order_id', 'count'), Count_of_items=('product_id', 'count'), Sum_of_Sales=('qty_x_price', 'sum'), Avg_Sales=('qty_x_price', 'mean'), Number_of_Custumers=('customer_id', 'count'), Number_of_Unique_Custumers=('customer_id', pd.Series.nunique)).sort_values(by='year_month', ascending=True)\n",
    "        elif time_period == 'Quarter':\n",
    "            return self.query_df.groupby('year_quarter').agg(Count_of_Orders=('order_id', 'count'), Count_of_items=('product_id', 'count'), Sum_of_Sales=('qty_x_price', 'sum'), Avg_Sales=('qty_x_price', 'mean'), Number_of_Custumers=('customer_id', 'count'), Number_of_Unique_Custumers=('customer_id', pd.Series.nunique)).sort_values(by='year_quarter', ascending=False)\n",
    "        elif time_period == 'Year':\n",
    "            return self.query_df.groupby('year').agg(Count_of_Orders=('order_id', 'count'), Count_of_items=('product_id', 'count'), Sum_of_Sales=('qty_x_price', 'sum'), Avg_Sales=('qty_x_price', 'mean'), Number_of_Custumers=('customer_id', 'count'), Number_of_Unique_Custumers=('customer_id', pd.Series.nunique)).sort_values(by='year', ascending=False)\n",
    "        else:\n",
    "            return None\n",
    "\n",
    "    def sales_trend_over_weather(self, time_perid):\n",
    "        return query_df.groupby(['product_id', 'description']).agg(Count_of_Orders=('order_id', 'count'), Count_of_items=('product_id', 'count'), Sum_of_Sales=('qty_x_price', 'sum'), Avg_Sales=('qty_x_price', 'mean'), Number_of_Custumers=('customer_id', 'count'), Number_of_Unique_Custumers=('customer_id', pd.Series.nunique)).sort_values(by='description', ascending=False)\n"
   ]
  },
  {
   "cell_type": "code",
   "execution_count": 107,
   "id": "baa1b5e5-7188-4793-aae8-7cd152dfad70",
   "metadata": {
    "scrolled": true
   },
   "outputs": [],
   "source": [
    "#Calculate total sales amount per customer.\n",
    "#query_df.groupby('customer_id')[\"qty_x_price\"].sum().reset_index()"
   ]
  },
  {
   "cell_type": "code",
   "execution_count": 108,
   "id": "49928b23-7192-4859-9fa3-aa8652740645",
   "metadata": {},
   "outputs": [],
   "source": [
    "#Determine the average order quantity per product.\n",
    "#query_df.groupby('product_id')['quantity'].mean().reset_index()\n",
    "#query_df.groupby('product_id').agg(Count_of_Orders=('order_id', 'count'), Count_of_items=('product_id', 'count'))\n",
    "#sales_data.columns"
   ]
  },
  {
   "cell_type": "code",
   "execution_count": 101,
   "id": "2e4541e2-5af9-4887-8dbc-d1891d05d2c4",
   "metadata": {},
   "outputs": [],
   "source": [
    "#Identify the top-selling products or customers\n",
    "#Products\n",
    "#query_df.groupby('product_id')['qty_x_price'].sum().reset_index().sort_values(by='qty_x_price', ascending=False).head(5)"
   ]
  },
  {
   "cell_type": "code",
   "execution_count": 102,
   "id": "3c6204d3-7ec8-4267-a76e-46ccd03b7838",
   "metadata": {},
   "outputs": [],
   "source": [
    "#Customers\n",
    "#query_df.groupby('username')['qty_x_price'].sum().reset_index().sort_values(by='qty_x_price', ascending=False).head(5)"
   ]
  },
  {
   "cell_type": "code",
   "execution_count": 103,
   "id": "86490d7a-14e1-4a8f-8ccc-c15c1661520e",
   "metadata": {},
   "outputs": [],
   "source": [
    "#Analyze sales trends over time (e.g., monthly or quarterly sales)\n",
    "#query_df[['year', 'month', 'day']] = query_df['order_date'].str.split('-',expand=True)\n",
    "#query_df['year_month'] = query_df['year'] + '-' + query_df['month']\n",
    "#query_df.groupby('year_month').agg(Count_of_Orders=('order_id', 'count'), Count_of_items=('product_id', 'count'), Sum_of_Sales=('qty_x_price', 'sum'), Avg_Sales=('qty_x_price', 'mean'), Number_of_Custumers=('customer_id', 'count'), Number_of_Unique_Custumers=('customer_id', pd.Series.nunique)).sort_values(by='year_month', ascending=True)"
   ]
  },
  {
   "cell_type": "code",
   "execution_count": 109,
   "id": "97c50ee2-340a-4a72-a528-50a30c354a02",
   "metadata": {},
   "outputs": [],
   "source": [
    "# query_df['year'] = query_df['year'].astype(int)\n",
    "# query_df['month'] = query_df['month'].astype(int)\n",
    "# query_df['day'] = query_df['day'].astype(int)\n",
    "# query_df['year_quarter'] = (query_df['year'].astype(str)).str[-2:] + '-Q' + query_df['quarter'].astype(str)\n",
    "#query_df.groupby('year').agg(Count_of_Orders=('order_id', 'count'), Count_of_items=('product_id', 'count'), Sum_of_Sales=('qty_x_price', 'sum'), Avg_Sales=('qty_x_price', 'mean'), Number_of_Custumers=('customer_id', 'count'), Number_of_Unique_Custumers=('customer_id', pd.Series.nunique)).sort_values(by='year', ascending=False)"
   ]
  },
  {
   "cell_type": "code",
   "execution_count": 110,
   "id": "3da59b4a-03d5-4a7a-bc70-eb063f451d0f",
   "metadata": {},
   "outputs": [],
   "source": [
    "#query_df.groupby(['product_id', 'description']).agg(Count_of_Orders=('order_id', 'count'), Count_of_items=('product_id', 'count'), Sum_of_Sales=('qty_x_price', 'sum'), Avg_Sales=('qty_x_price', 'mean'), Number_of_Custumers=('customer_id', 'count'), Number_of_Unique_Custumers=('customer_id', pd.Series.nunique)).sort_values(by='description', ascending=False)"
   ]
  },
  {
   "cell_type": "code",
   "execution_count": 111,
   "id": "8145790e-fec4-41fc-9b32-f5fa89b8561c",
   "metadata": {},
   "outputs": [],
   "source": [
    "#query_df.head()"
   ]
  }
 ],
 "metadata": {
  "kernelspec": {
   "display_name": "Python 3 (ipykernel)",
   "language": "python",
   "name": "python3"
  },
  "language_info": {
   "codemirror_mode": {
    "name": "ipython",
    "version": 3
   },
   "file_extension": ".py",
   "mimetype": "text/x-python",
   "name": "python",
   "nbconvert_exporter": "python",
   "pygments_lexer": "ipython3",
   "version": "3.9.10"
  }
 },
 "nbformat": 4,
 "nbformat_minor": 5
}
